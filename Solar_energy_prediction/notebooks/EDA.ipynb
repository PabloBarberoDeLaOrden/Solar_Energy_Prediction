{
 "cells": [
  {
   "cell_type": "markdown",
   "metadata": {},
   "source": [
    "# EDA"
   ]
  },
  {
   "cell_type": "code",
   "execution_count": null,
   "metadata": {},
   "outputs": [],
   "source": [
    "na_ratio = ((df_final.isnull().sum() / len(df_final))*100).sort_values(ascending = False)\n",
    "print(na_ratio)"
   ]
  },
  {
   "cell_type": "markdown",
   "metadata": {},
   "source": [
    "Ninguna de las variables disponde de valores faltantes o columnas constantes"
   ]
  },
  {
   "cell_type": "code",
   "execution_count": null,
   "metadata": {},
   "outputs": [],
   "source": [
    "import seaborn as sns\n",
    "df_corr = df_final.corr()\n",
    "sns.set(rc = {'figure.figsize':(15,8)})\n",
    "sns.heatmap(df_corr, annot=True)"
   ]
  },
  {
   "cell_type": "markdown",
   "metadata": {},
   "source": [
    "Tras haber pensado en eliminar aquellas columnas que tienen una correlacion superior al 0.85 con otras, quedandose con aquellas que estén mas correlacionadas con el target. Es decir eliminando: Total_Column-Integrated_Condensate, Maximum_temperature, Minimum_temperature,Temperature_height_above_ground, Downward_Long-Wave_Rad_Flux, Upward_Short-Wave_Rad_Flux, Precipitable_water. \n",
    "\n",
    "Se demuestra que no mejora la predicción de nuestro modelo por eso se siguen considerando todas las variables"
   ]
  },
  {
   "cell_type": "code",
   "execution_count": null,
   "metadata": {},
   "outputs": [],
   "source": [
    "from matplotlib import pyplot\n",
    "df_final.APAC.plot(style='k.')\n",
    "pyplot.show()"
   ]
  },
  {
   "cell_type": "markdown",
   "metadata": {},
   "source": [
    "Así quedaría nuestro target graficado en el tiempo, suscita que quizá una serie temporal sea lo que mejor predice nuestro target. Sin embargo al disponer de información acerca del tiempo se estudiaran ambas tipos de prediccion tanto la serie temporal como la regresión"
   ]
  }
 ],
 "metadata": {
  "kernelspec": {
   "display_name": "Python 3.7.4 64-bit",
   "language": "python",
   "name": "python3"
  },
  "language_info": {
   "name": "python",
   "version": "3.7.4"
  },
  "orig_nbformat": 4,
  "vscode": {
   "interpreter": {
    "hash": "76c24f8bc9514c6502187ffd48ecdbbcac9127747815a2c20d554bded54d2871"
   }
  }
 },
 "nbformat": 4,
 "nbformat_minor": 2
}
