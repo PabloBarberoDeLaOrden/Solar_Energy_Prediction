{
 "cells": [
  {
   "cell_type": "markdown",
   "metadata": {},
   "source": [
    "# Limpieza de datos"
   ]
  },
  {
   "cell_type": "code",
   "execution_count": 2,
   "metadata": {},
   "outputs": [],
   "source": [
    "import pandas as pd\n",
    "import numpy as np"
   ]
  },
  {
   "cell_type": "code",
   "execution_count": 3,
   "metadata": {},
   "outputs": [],
   "source": [
    "predictors = ['apcp_sfc','dlwrf_sfc','dswrf_sfc','pres_msl','pwat_eatm',\\\n",
    "                  'spfh_2m','tcdc_eatm','tcolc_eatm','tmax_2m','tmin_2m',\\\n",
    "                  'tmp_2m','tmp_sfc','ulwrf_sfc','ulwrf_tatm','uswrf_sfc']\n",
    "train_end = '_latlon_subset_19940101_20071231.nc'\n",
    "path='data/train/'"
   ]
  },
  {
   "cell_type": "code",
   "execution_count": 4,
   "metadata": {},
   "outputs": [
    {
     "ename": "ModuleNotFoundError",
     "evalue": "No module named 'ipynb.fs.full.utils_solar_energy_prediction'",
     "output_type": "error",
     "traceback": [
      "\u001b[1;31m---------------------------------------------------------------------------\u001b[0m",
      "\u001b[1;31mModuleNotFoundError\u001b[0m                       Traceback (most recent call last)",
      "\u001b[1;32m~\\AppData\\Local\\Temp\\ipykernel_19028\\2012428363.py\u001b[0m in \u001b[0;36m<module>\u001b[1;34m\u001b[0m\n\u001b[0;32m      1\u001b[0m \u001b[1;32mimport\u001b[0m \u001b[0mipynb\u001b[0m\u001b[1;33m\u001b[0m\u001b[1;33m\u001b[0m\u001b[0m\n\u001b[0;32m      2\u001b[0m \u001b[1;32mfrom\u001b[0m \u001b[0mnetCDF4\u001b[0m \u001b[1;32mimport\u001b[0m \u001b[0mDataset\u001b[0m\u001b[1;33m\u001b[0m\u001b[1;33m\u001b[0m\u001b[0m\n\u001b[1;32m----> 3\u001b[1;33m \u001b[1;32mfrom\u001b[0m \u001b[0mipynb\u001b[0m\u001b[1;33m.\u001b[0m\u001b[0mfs\u001b[0m\u001b[1;33m.\u001b[0m\u001b[0mfull\u001b[0m\u001b[1;33m.\u001b[0m\u001b[0mutils_solar_energy_prediction\u001b[0m \u001b[1;32mimport\u001b[0m \u001b[0mload_data\u001b[0m\u001b[1;33m\u001b[0m\u001b[1;33m\u001b[0m\u001b[0m\n\u001b[0m",
      "\u001b[1;31mModuleNotFoundError\u001b[0m: No module named 'ipynb.fs.full.utils_solar_energy_prediction'"
     ]
    }
   ],
   "source": [
    "from netCDF4 import Dataset\n",
    "def load_data(filename):\n",
    "    data=Dataset(filename)\n",
    "    return data"
   ]
  },
  {
   "cell_type": "code",
   "execution_count": null,
   "metadata": {},
   "outputs": [],
   "source": [
    "import os\n",
    "apcp_sfc=load_data(os.path.join(path,predictors[0]+train_end))\n",
    "dlwrf_sfc=load_data(os.path.join(path,predictors[1]+train_end))\n",
    "dswrf_sfc=load_data(os.path.join(path,predictors[2]+train_end))\n",
    "pres_msl=load_data(os.path.join(path,predictors[3]+train_end))\n",
    "pwat_eatm=load_data(os.path.join(path,predictors[4]+train_end))\n",
    "spfh_2m=load_data(os.path.join(path,predictors[5]+train_end))\n",
    "tcdc_eatm=load_data(os.path.join(path,predictors[6]+train_end))\n",
    "tcolc_eatm=load_data(os.path.join(path,predictors[7]+train_end))\n",
    "tmax_2m=load_data(os.path.join(path,predictors[8]+train_end))\n",
    "tmin_2m=load_data(os.path.join(path,predictors[9]+train_end))\n",
    "tmp_2m=load_data(os.path.join(path,predictors[10]+train_end))\n",
    "tmp_sfc=load_data(os.path.join(path,predictors[11]+train_end))\n",
    "ulwrf_sfc=load_data(os.path.join(path,predictors[12]+train_end))\n",
    "ulwrf_tatm=load_data(os.path.join(path,predictors[13]+train_end))\n",
    "uswrf_sfc=load_data(os.path.join(path,predictors[14]+train_end))"
   ]
  },
  {
   "cell_type": "code",
   "execution_count": null,
   "metadata": {},
   "outputs": [],
   "source": [
    "#Funcion que convierte a dataframe los netCDF4\n",
    "from matplotlib import pyplot as plt\n",
    "import pandas as pd\n",
    "import xarray as xr\n",
    "\n",
    "def net_df(num,key):\n",
    "    os.chdir(r'C:\\Users\\MEMORY SISTEMAS\\Desktop\\Bootcamp\\thebridge_ft_sep22 - PB\\3-Machine Learning\\2-Supervisado\\11- Entregables')\n",
    "    dp = xr.open_dataset(os.path.join(path,predictors[num]+train_end))\n",
    "    dp[key]\n",
    "    m2 = dp.to_dataframe()\n",
    "    s = pd.DataFrame(m2)\n",
    "    return(s)"
   ]
  },
  {
   "cell_type": "code",
   "execution_count": null,
   "metadata": {},
   "outputs": [],
   "source": [
    "apcp_sfc = net_df(0,'Total_precipitation')\n",
    "dlwrf_sfc = net_df(1,'Downward_Long-Wave_Rad_Flux')\n",
    "dswrf_sfc = net_df(2,'Downward_Short-Wave_Rad_Flux')\n",
    "pres_msl = net_df(3,'Pressure')\n",
    "pwat_eatm = net_df(4,'Precipitable_water')\n",
    "spfh_2m = net_df(5, 'Specific_humidity_height_above_ground')\n",
    "tcdc_eatm = net_df(6,'Total_cloud_cover')\n",
    "tcolc_eatm = net_df(7,'Total_Column-Integrated_Condensate')\n",
    "tmax_2m = net_df(8,'Maximum_temperature')\n",
    "tmin_2m = net_df(9,'Minimum_temperature')\n",
    "tmp_2m = net_df(10,'Temperature_height_above_ground')\n",
    "tmp_sfc = net_df(11,'Temperature_surface')\n",
    "ulwrf_sfc = net_df(12,'Upward_Long-Wave_Rad_Flux_surface')\n",
    "ulwrf_tatm = net_df(13,'Upward_Long-Wave_Rad_Flux')\n",
    "uswrf_sfc = net_df(14,'Upward_Short-Wave_Rad_Flux')"
   ]
  },
  {
   "cell_type": "code",
   "execution_count": null,
   "metadata": {},
   "outputs": [],
   "source": [
    "station = pd.read_csv(r'C:\\Users\\MEMORY SISTEMAS\\Desktop\\Bootcamp\\thebridge_ft_sep22 - PB\\3-Machine Learning\\2-Supervisado\\11- Entregables\\data\\station_info.csv')\n",
    "station"
   ]
  },
  {
   "cell_type": "markdown",
   "metadata": {},
   "source": [
    "Se suma toda la columna 'lon' por 360 para que tenga la misma referencia que las variables."
   ]
  },
  {
   "cell_type": "code",
   "execution_count": null,
   "metadata": {},
   "outputs": [],
   "source": [
    "station['elon'] = station['elon'] +360\n",
    "station"
   ]
  },
  {
   "cell_type": "code",
   "execution_count": null,
   "metadata": {},
   "outputs": [],
   "source": [
    "# filtro para tablas de varibales para quedarnos con la zona de nuestro panel 'APAC' que dispone de lat 34.9 y lon 261.7 agrupando para tener un dato por día con el que poder hacer el concat\n",
    "def filter_df_vble(tabla):\n",
    "    df = (tabla[((tabla.index.get_level_values('lat') > 34) & (tabla.index.get_level_values('lat') < 36)) & ((tabla.index.get_level_values('lon') > 261) & (tabla.index.get_level_values('lon') < 263))])\n",
    "    df = pd.DataFrame(df)\n",
    "    df.drop('intValidTime', axis= 1, inplace =  True)\n",
    "    df = df.groupby('intTime').mean()\n",
    "    df.reset_index(inplace=True)\n",
    "    df['intTime'] = df['intTime']/100\n",
    "    return df"
   ]
  },
  {
   "cell_type": "code",
   "execution_count": null,
   "metadata": {},
   "outputs": [],
   "source": [
    "apcp_sfc_df = filter_df_vble(apcp_sfc)\n",
    "dlwrf_sfc_df = filter_df_vble(dlwrf_sfc)\n",
    "dswrf_sfc_df = filter_df_vble(dswrf_sfc)\n",
    "pres_msl_df = filter_df_vble(pres_msl)\n",
    "pwat_eatm_df = filter_df_vble(pwat_eatm)\n",
    "spfh_2m_df = filter_df_vble(spfh_2m)\n",
    "tcdc_eatm_df = filter_df_vble(tcdc_eatm)\n",
    "tcolc_eatm_df = filter_df_vble(tcolc_eatm)\n",
    "tmax_2m_df = filter_df_vble(tmax_2m)\n",
    "tmin_2m_df = filter_df_vble(tmin_2m)\n",
    "tmp_2m_df = filter_df_vble(tmp_2m)\n",
    "tmp_sfc_df = filter_df_vble(tmp_sfc)\n",
    "ulwrf_sfc_df = filter_df_vble(ulwrf_sfc)\n",
    "ulwrf_tatm_df = filter_df_vble(ulwrf_tatm)\n",
    "uswrf_sfc_df = filter_df_vble(uswrf_sfc)\n"
   ]
  },
  {
   "cell_type": "code",
   "execution_count": null,
   "metadata": {},
   "outputs": [],
   "source": [
    "# Nos traemos lo que será nuestro target\n",
    "train = pd.read_csv(r'C:\\Users\\MEMORY SISTEMAS\\Desktop\\Bootcamp\\thebridge_ft_sep22 - PB\\3-Machine Learning\\2-Supervisado\\11- Entregables\\data\\train.csv')\n",
    "train"
   ]
  },
  {
   "cell_type": "code",
   "execution_count": null,
   "metadata": {},
   "outputs": [],
   "source": [
    "APAC = train[['Date', 'APAC']]\n",
    "APAC = APAC.rename(columns={'Date':'intTime'})"
   ]
  },
  {
   "cell_type": "code",
   "execution_count": null,
   "metadata": {},
   "outputs": [],
   "source": [
    "df_final = APAC.merge(apcp_sfc_df, on= 'intTime', how = 'left').merge(dlwrf_sfc_df, on= 'intTime', how = 'left').merge(dswrf_sfc_df, on= 'intTime', how = 'left').merge(pres_msl_df, on= 'intTime', how = 'left').merge(pwat_eatm_df, on= 'intTime', how = 'left').merge(spfh_2m_df, on= 'intTime', how = 'left').merge(tcdc_eatm_df, on= 'intTime', how = 'left').merge(tcolc_eatm_df, on= 'intTime', how = 'left').merge(tmax_2m_df, on= 'intTime', how = 'left').merge(tmin_2m_df, on= 'intTime', how = 'left').merge(tmp_2m_df, on= 'intTime', how = 'left').merge(tmp_sfc_df, on= 'intTime', how = 'left').merge(ulwrf_sfc_df, on= 'intTime', how = 'left').merge(ulwrf_tatm_df, on= 'intTime', how = 'left').merge(uswrf_sfc_df, on= 'intTime', how = 'left')"
   ]
  },
  {
   "cell_type": "code",
   "execution_count": null,
   "metadata": {},
   "outputs": [],
   "source": [
    "from datetime import datetime\n",
    "df_final[['Date']] = df_final[['intTime']].applymap(str).applymap(lambda s: \"{}/{}/{}\".format(s[0:4],s[4:6], s[6:]))\n",
    "df_final['DateTime'] = pd.to_datetime(df_final['Date'])\n",
    "df_final.drop('intTime', axis = 1, inplace=True)"
   ]
  },
  {
   "cell_type": "code",
   "execution_count": null,
   "metadata": {},
   "outputs": [],
   "source": [
    "def season_of_date(date):\n",
    "    year = str(date.year)\n",
    "    seasons = {'spring': pd.date_range(start= year+'/03/21', end= year+'/06/20'),\n",
    "               'summer': pd.date_range(start=year+'/06/21', end= year +'/09/22'),\n",
    "               'autumn': pd.date_range(start=year+'/09/23', end= year + '/12/20')}\n",
    "    if date in seasons['spring']:\n",
    "        return 'spring'\n",
    "    if date in seasons['summer']:\n",
    "        return 'summer'\n",
    "    if date in seasons['autumn']:\n",
    "        return 'autumn'\n",
    "    else:\n",
    "        return 'winter'\n",
    "\n",
    "# Assuming df has a date column of type `datetime`\n",
    "df_final['season'] = df_final.DateTime.map(season_of_date)"
   ]
  },
  {
   "cell_type": "code",
   "execution_count": null,
   "metadata": {},
   "outputs": [],
   "source": [
    "df_final_dummies = pd.get_dummies(df_final['season'], 'season', drop_first= True)"
   ]
  },
  {
   "cell_type": "code",
   "execution_count": null,
   "metadata": {},
   "outputs": [],
   "source": [
    "df_final = pd.concat([df_final, df_final_dummies], axis = 1)\n",
    "df_final = df_final.drop('season', axis = 1)"
   ]
  },
  {
   "cell_type": "code",
   "execution_count": null,
   "metadata": {},
   "outputs": [],
   "source": [
    "df_final = df_final.drop('DateTime', axis = 1)"
   ]
  },
  {
   "cell_type": "code",
   "execution_count": null,
   "metadata": {},
   "outputs": [],
   "source": [
    "df_final = df_final.set_index('Date')\n",
    "df_final"
   ]
  }
 ],
 "metadata": {
  "kernelspec": {
   "display_name": "Python 3.7.4 64-bit",
   "language": "python",
   "name": "python3"
  },
  "language_info": {
   "codemirror_mode": {
    "name": "ipython",
    "version": 3
   },
   "file_extension": ".py",
   "mimetype": "text/x-python",
   "name": "python",
   "nbconvert_exporter": "python",
   "pygments_lexer": "ipython3",
   "version": "3.7.4"
  },
  "orig_nbformat": 4,
  "vscode": {
   "interpreter": {
    "hash": "76c24f8bc9514c6502187ffd48ecdbbcac9127747815a2c20d554bded54d2871"
   }
  }
 },
 "nbformat": 4,
 "nbformat_minor": 2
}
