{
 "cells": [
  {
   "cell_type": "markdown",
   "metadata": {},
   "source": [
    "# Módulos y funciones auxiliares"
   ]
  },
  {
   "cell_type": "code",
   "execution_count": null,
   "metadata": {},
   "outputs": [],
   "source": [
    "from netCDF4 import Dataset\n",
    "def load_data(filename):\n",
    "    data=Dataset(filename)\n",
    "    return data"
   ]
  },
  {
   "cell_type": "code",
   "execution_count": null,
   "metadata": {},
   "outputs": [],
   "source": [
    "#Funcion que convierte a dataframe los netCDF4\n",
    "import os\n",
    "from matplotlib import pyplot as plt\n",
    "import pandas as pd\n",
    "import netCDF4\n",
    "import numpy as np\n",
    "import xarray as xr\n",
    "\n",
    "predictors = ['apcp_sfc','dlwrf_sfc','dswrf_sfc','pres_msl','pwat_eatm',\\\n",
    "                  'spfh_2m','tcdc_eatm','tcolc_eatm','tmax_2m','tmin_2m',\\\n",
    "                  'tmp_2m','tmp_sfc','ulwrf_sfc','ulwrf_tatm','uswrf_sfc']\n",
    "train_end = '_latlon_subset_19940101_20071231.nc'\n",
    "path='data/train/'\n",
    "\n",
    "def net_df(num,key):\n",
    "    os.chdir(r'C:\\Users\\MEMORY SISTEMAS\\Desktop\\Bootcamp\\thebridge_ft_sep22 - PB\\3-Machine Learning\\2-Supervisado\\11- Entregables')\n",
    "    dp = xr.open_dataset(os.path.join(path,predictors[num]+train_end))\n",
    "    dp[key]\n",
    "    m2 = dp.to_dataframe()\n",
    "    s = pd.DataFrame(m2)\n",
    "    return(s)\n"
   ]
  },
  {
   "cell_type": "code",
   "execution_count": null,
   "metadata": {},
   "outputs": [],
   "source": [
    "# filtro para tablas de varibales para quedarnos con la zona de nuestro panel 'APAC' que dispone de lat 34.9 y lon 261.7 agrupando para tener un dato por día con el que poder hacer el concat\n",
    "def filter_df_vble(tabla):\n",
    "    df = (tabla[((tabla.index.get_level_values('lat') > 34) & (tabla.index.get_level_values('lat') < 36)) & ((tabla.index.get_level_values('lon') > 261) & (tabla.index.get_level_values('lon') < 263))])\n",
    "    df = pd.DataFrame(df)\n",
    "    df.drop('intValidTime', axis= 1, inplace =  True)\n",
    "    df = df.groupby('intTime').mean()\n",
    "    df.reset_index(inplace=True)\n",
    "    df['intTime'] = df['intTime']/100\n",
    "    return df"
   ]
  },
  {
   "cell_type": "code",
   "execution_count": null,
   "metadata": {},
   "outputs": [],
   "source": [
    "def season_of_date(date):\n",
    "    year = str(date.year)\n",
    "    seasons = {'spring': pd.date_range(start= year+'/03/21', end= year+'/06/20'),\n",
    "               'summer': pd.date_range(start=year+'/06/21', end= year +'/09/22'),\n",
    "               'autumn': pd.date_range(start=year+'/09/23', end= year + '/12/20')}\n",
    "    if date in seasons['spring']:\n",
    "        return 'spring'\n",
    "    if date in seasons['summer']:\n",
    "        return 'summer'\n",
    "    if date in seasons['autumn']:\n",
    "        return 'autumn'\n",
    "    else:\n",
    "        return 'winter'"
   ]
  }
 ],
 "metadata": {
  "kernelspec": {
   "display_name": "Python 3.7.4 64-bit",
   "language": "python",
   "name": "python3"
  },
  "language_info": {
   "name": "python",
   "version": "3.7.4"
  },
  "orig_nbformat": 4,
  "vscode": {
   "interpreter": {
    "hash": "76c24f8bc9514c6502187ffd48ecdbbcac9127747815a2c20d554bded54d2871"
   }
  }
 },
 "nbformat": 4,
 "nbformat_minor": 2
}
